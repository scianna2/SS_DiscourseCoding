{
 "cells": [
  {
   "cell_type": "markdown",
   "id": "d49f77f0-410f-40d0-8142-7e8c96f9bf7e",
   "metadata": {},
   "source": [
    "# Imports"
   ]
  },
  {
   "cell_type": "code",
   "execution_count": 1,
   "id": "83957627-70f6-4747-958f-ad88d7ab5c00",
   "metadata": {},
   "outputs": [],
   "source": [
    "# Packages\n",
    "from pandas import read_csv, DataFrame, concat\n",
    "from scipy.stats import pearsonr\n",
    "from sklearn.ensemble import RandomForestRegressor\n",
    "from sklearn.model_selection import train_test_split\n",
    "from numpy import array, mean\n",
    "from matplotlib.pyplot import savefig, xlim, ylim\n",
    "from os import makedirs\n",
    "from yaml import safe_load, dump as yaml_dump\n",
    "from munch import munchify, unmunchify\n",
    "from IPython.display import display, Markdown\n",
    "import re"
   ]
  },
  {
   "cell_type": "markdown",
   "id": "56720835-813c-429c-8539-cd718533906e",
   "metadata": {},
   "source": [
    "# Processing Code Rules\n",
    "## Load YAML"
   ]
  },
  {
   "cell_type": "code",
   "execution_count": 2,
   "id": "3fa69b4c-8a45-4a37-b912-8903f313bb9f",
   "metadata": {},
   "outputs": [],
   "source": [
    "rules = munchify(safe_load(open(\"big_data/rules.yaml\", \"r\").read()))"
   ]
  },
  {
   "cell_type": "markdown",
   "id": "69bf02ba-8987-41c1-800f-0468ff0a041a",
   "metadata": {},
   "source": [
    "## Helpers"
   ]
  },
  {
   "cell_type": "code",
   "execution_count": 3,
   "id": "7d03e298-ce55-4c23-a8f5-88da7909f6a2",
   "metadata": {},
   "outputs": [],
   "source": [
    "def __OR_from_list__(words):\n",
    "    z = \"\"\n",
    "    first = True\n",
    "    for word in words:\n",
    "        if type(word) == str:\n",
    "            if not first:\n",
    "                z += '|'\n",
    "\n",
    "            if word.endswith(\"*\"):\n",
    "                z += word[:-1]\n",
    "                z += '\\w*'\n",
    "            else:\n",
    "                z += word\n",
    "\n",
    "            first = False\n",
    "    \n",
    "    return z\n",
    "\n",
    "def make_OR_clause(words):\n",
    "    z = '(?=(?:^|.*\\W)('\n",
    "    z += __OR_from_list__(words)\n",
    "    z += ')(?:\\W|$))'\n",
    "    return z\n",
    "\n",
    "def __query_from_word__(word):\n",
    "    word = word.replace(\".*\", '\" AND \"')\n",
    "    word = re.sub(r'\\(\\?<?!([^)]+)\\)', r'\" AND NOT(\"\\1\") AND \"', word)\n",
    "    word = '(\"' + word + '\")'\n",
    "    word = word.replace(' AND \"\"', \"\")\n",
    "    word = word.replace('\"\" AND ', \"\")\n",
    "    return word\n",
    "\n",
    "def make_OR_query(words):\n",
    "    z = \"(\"\n",
    "    z += \" OR \".join(map(__query_from_word__, words))\n",
    "    z += \")\"\n",
    "    return z"
   ]
  },
  {
   "cell_type": "markdown",
   "id": "ecc0d220-deef-4598-a429-43112e452471",
   "metadata": {
    "tags": []
   },
   "source": [
    "## Generating Regex"
   ]
  },
  {
   "cell_type": "code",
   "execution_count": 4,
   "id": "f1235f73-16c9-444a-93e1-e805d24fc357",
   "metadata": {},
   "outputs": [
    {
     "name": "stdout",
     "output_type": "stream",
     "text": [
      "Munch({'codes': Munch({'Abduction': Munch({'__query__': '((\"student*\") OR (\"them\") OR (\"their\") OR (\"they\") OR (\"these\") OR (\"people\")) AND ((\"compar*\") OR (\"possible\") OR (\"could have\") OR (\"one-to-one\") OR (\"story\") OR (\"supposed to\") OR (\"looks like\") OR (\"seems to\") OR (\"seem to\") OR (\"if\" AND \"were\"))', '__regex__': '(?=(?:^|.*\\\\W)(student\\\\w*|them|their|they|these|people)(?:\\\\W|$))(?=(?:^|.*\\\\W)(compar\\\\w*|possible|could have|one-to-one|story|supposed to|looks like|seems to|seem to|if.*were)(?:\\\\W|$))', 'definition': 'TODO', 'examples': [\"it's possible that they were trying to game the system\", 'TODO'], 'logic': Munch({'target': ['student*', 'them', 'their', 'they', 'these', 'people'], 'think': ['compar*', 'possible', 'could have', 'one-to-one', 'story', 'supposed to', 'looks like', 'seems to', 'seem to', 'if.*were']})}), 'Action': Munch({'__query__': '((\"help*\") OR (\"question\") OR (\"you should\")) AND ((\"this person\") OR (\"they\") OR (\"student\") OR (\"them\"))', '__regex__': '(?=(?:^|.*\\\\W)(help\\\\w*|question|you should)(?:\\\\W|$))(?=(?:^|.*\\\\W)(this person|they|student|them)(?:\\\\W|$))', 'definition': 'TODO', 'examples': ['TODO'], 'logic': Munch({'act': ['help*', 'question', 'you should'], 'target': ['this person', 'they', 'student', 'them']})}), 'Conception': Munch({'__query__': '((\"metric*\") OR (\"misconception*\") OR (\"confusion\")) AND ((\"come up with\") OR (\"kind of\") OR (\"vein\"))', '__regex__': '(?=(?:^|.*\\\\W)(metric\\\\w*|misconception\\\\w*|confusion)(?:\\\\W|$))(?=(?:^|.*\\\\W)(come up with|kind of|vein)(?:\\\\W|$))', 'definition': 'TODO', 'examples': ['TODO'], 'logic': Munch({'target': ['metric*', 'misconception*', 'confusion'], 'think': ['come up with', 'kind of', 'vein']})}), 'Design': Munch({'__query__': '((\"click\") OR (\"monster\") OR (\"drag*\") OR (\"drop*\") OR (\"filter*\") OR (\"toggl*\") OR (\"view\") OR (\"views\") OR (\"box*\") OR (\"alert*\") OR (\"number line\") OR (\"chart*\") OR (\"hover*\") OR (\"visual*\") OR (\"dashboard*\") OR (\"portal*\") OR (\"prototype*\") OR (\"graph*\") OR (\"bar\") OR (\"tab\") OR (\"tabs\") OR (\"color*\") OR (\"red\") OR (\"reds\") OR (\"blue*\") OR (\"yellow*\") OR (\"green*\") OR (\"circle*\") OR (\"landing page\") OR (\"bubble*\") OR (\"run*\") OR (\"icon*\") OR (\"feature\") OR (\"less than\") OR (\"greater than\") OR (\"equal to\") OR (\"give it\") OR (\"top half\") OR (\"version*\") OR (\"blank\"))', '__regex__': '(?=(?:^|.*\\\\W)(click|monster|drag\\\\w*|drop\\\\w*|filter\\\\w*|toggl\\\\w*|view|views|box\\\\w*|alert\\\\w*|number line|chart\\\\w*|hover\\\\w*|visual\\\\w*|dashboard\\\\w*|portal\\\\w*|prototype\\\\w*|graph\\\\w*|bar|tab|tabs|color\\\\w*|red|reds|blue\\\\w*|yellow\\\\w*|green\\\\w*|circle\\\\w*|landing page|bubble\\\\w*|run\\\\w*|icon\\\\w*|feature|less than|greater than|equal to|give it|top half|version\\\\w*|blank)(?:\\\\W|$))', 'definition': 'TODO', 'examples': ['TODO'], 'logic': Munch({'keywords': ['click', 'monster', 'drag*', 'drop*', 'filter*', 'toggl*', 'view', 'views', 'box*', 'alert*', 'number line', 'chart*', 'hover*', 'visual*', 'dashboard*', 'portal*', 'prototype*', 'graph*', 'bar', 'tab', 'tabs', 'color*', 'red', 'reds', 'blue*', 'yellow*', 'green*', 'circle*', 'landing page', 'bubble*', 'run*', 'icon*', 'feature', 'less than', 'greater than', 'equal to', 'give it', 'top half', 'version*', 'blank']})}), 'DesignTeam': Munch({'__query__': '((\"team\") OR (\"being built\") OR (\"build\") OR (\"we\"))', '__regex__': '(?=(?:^|.*\\\\W)(team|being built|build|we)(?:\\\\W|$))', 'definition': 'TODO', 'examples': ['TODO'], 'logic': Munch({'keywords': ['team', 'being built', 'build', 'we']})}), 'DiggingInto': Munch({'__query__': '((\"information*\") OR (\"understand*\") OR (\"dig*\") OR (\"click\" AND \"see\") OR (\"get into\") OR (\"where did\") OR (\"come from\") OR (\"in relation to\")) AND ((\"student*\") OR (\"them\") OR (\"their\") OR (\"they\") OR (\"level*\") OR (\"puzzle*\") OR (\"this\") OR (\"happen*\") OR (\"that\") OR (\"each\"))', '__regex__': '(?=(?:^|.*\\\\W)(information\\\\w*|understand\\\\w*|dig\\\\w*|click.*see|get into|where did|come from|in relation to)(?:\\\\W|$))(?=(?:^|.*\\\\W)(student\\\\w*|them|their|they|level\\\\w*|puzzle\\\\w*|this|happen\\\\w*|that|each)(?:\\\\W|$))', 'definition': 'TODO', 'examples': ['where did that come from?', 'TODO'], 'logic': Munch({'dig': ['information*', 'understand*', 'dig*', 'click.*see', 'get into', 'where did', 'come from', 'in relation to'], 'dirt': ['student*', 'them', 'their', 'they', 'level*', 'puzzle*', 'this', 'happen*', 'that', 'each']})}), 'Evaluation': Munch({'__query__': '((\"struggl*\") OR (\"mental\" AND \"work\") OR (\"change about it\") OR (\"no idea\") OR (\"nervous\") OR (\"don\\'t\" AND \"make\" AND \"sense\") OR (\"doesn\\'t\" AND \"make\" AND \"sense\") OR (\"don\\'t\" AND \"makes\" AND \"sense\") OR (\"doesn\\'t\" AND \"makes\" AND \"sense\") OR (\"confusing\") OR (\"i feel like\") OR (\"confident\" AND \"how\"))', '__regex__': \"(?=(?:^|.*\\\\W)(struggl\\\\w*|mental.*work|change about it|no idea|nervous|don't.*make.*sense|doesn't.*make.*sense|don't.*makes.*sense|doesn't.*makes.*sense|confusing|i feel like|confident.*how)(?:\\\\W|$))\", 'definition': 'TODO', 'examples': [\"this tool requires a lot of mental energy, and i don't have the time to work on that\", 'TODO'], 'logic': Munch({'keywords': ['struggl*', 'mental.*work', 'change about it', 'no idea', 'nervous', \"don't.*make.*sense\", \"doesn't.*make.*sense\", \"don't.*makes.*sense\", \"doesn't.*makes.*sense\", 'confusing', 'i feel like', 'confident.*how']})}), 'Motivation': Munch({'__query__': '((\"falling through\") OR (\"cracks\") OR (\"courag*\") OR (\"success*\") OR (\"standard*\") OR (\"spatial\") OR (\"awareness\") OR (\"started\") OR (\"ended\") OR (\"mastery\") OR (\"gain*\") OR (\"struggl*\"))', '__regex__': '(?=(?:^|.*\\\\W)(falling through|cracks|courag\\\\w*|success\\\\w*|standard\\\\w*|spatial|awareness|started|ended|mastery|gain\\\\w*|struggl\\\\w*)(?:\\\\W|$))', 'definition': 'TODO', 'examples': ['TODO'], 'logic': Munch({'keywords': ['falling through', 'cracks', 'courag*', 'success*', 'standard*', 'spatial', 'awareness', 'started', 'ended', 'mastery', 'gain*', 'struggl*']})}), 'Operationalization': Munch({'__query__': '((\"calculat*\") OR (\"averag*\") OR (\"maxim*\") OR (\"algorithm*\") OR (\"metric*\") OR (\"definition*\"))', '__regex__': '(?=(?:^|.*\\\\W)(calculat\\\\w*|averag\\\\w*|maxim\\\\w*|algorithm\\\\w*|metric\\\\w*|definition\\\\w*)(?:\\\\W|$))', 'definition': 'TODO', 'examples': ['TODO'], 'logic': Munch({'keywords': ['calculat*', 'averag*', 'maxim*', 'algorithm*', 'metric*', 'definition*']})}), 'Selection': Munch({'__query__': '((\"pick*\") OR (NOT(\"off the \") AND \"top\") OR (\"struggling\") OR (\"doing well\") OR (\"stand out\") OR (\"differentiate\") OR (\"find\") OR (\"in particular\") OR (\"specific\") OR (\"where\" AND \"fell\") OR (\"trend line\") OR (\"over here\") OR (\"to the right\") OR (\"identified\") OR (\"way off\") OR (\"showing\") OR (\"sort\" AND NOT(\" of\")) OR (\"most attention\")) AND ((\"student*\") OR (\"puzzle\" AND NOT(\" data\")) OR (\"puzzles\") OR (\"who\") OR (\"whose\") OR (\"who\\'ve\") OR (\"who\\'s\") OR (\"this person\") OR (\"group\") OR (\"anyone\") OR (\"kid\") OR (\"kids\"))', '__regex__': \"(?=(?:^|.*\\\\W)(pick\\\\w*|(?<!off the )top|struggling|doing well|stand out|differentiate|find|in particular|specific|where.*fell|trend line|over here|to the right|identified|way off|showing|sort(?! of)|most attention)(?:\\\\W|$))(?=(?:^|.*\\\\W)(student\\\\w*|puzzle(?! data)|puzzles|who|whose|who've|who's|this person|group|anyone|kid|kids)(?:\\\\W|$))\", 'definition': 'TODO', 'examples': ['stand out student', 'TODO'], 'logic': Munch({'selects': ['pick*', '(?<!off the )top', 'struggling', 'doing well', 'stand out', 'differentiate', 'find', 'in particular', 'specific', 'where.*fell', 'trend line', 'over here', 'to the right', 'identified', 'way off', 'showing', 'sort(?! of)', 'most attention'], 'targets': ['student*', 'puzzle(?! data)', 'puzzles', 'who', 'whose', \"who've\", \"who's\", 'this person', 'group', 'anyone', 'kid', 'kids']})}), 'Shadowspect': Munch({'__query__': '((\"shadow*\") OR (\"pyramind*\") OR (\"stretch*\") OR (\"base\") OR (\"rectangle*\") OR (\"shadowspect\") OR (\"square*\") OR (\"triangle*\") OR (\"angle*\") OR (\"shape*\"))', '__regex__': '(?=(?:^|.*\\\\W)(shadow\\\\w*|pyramind\\\\w*|stretch\\\\w*|base|rectangle\\\\w*|shadowspect|square\\\\w*|triangle\\\\w*|angle\\\\w*|shape\\\\w*)(?:\\\\W|$))', 'definition': 'TODO', 'examples': ['TODO'], 'logic': Munch({'keywords': ['shadow*', 'pyramind*', 'stretch*', 'base', 'rectangle*', 'shadowspect', 'square*', 'triangle*', 'angle*', 'shape*']})}), 'Transposition': Munch({'__query__': '((\"looking at\") OR (\"looked at\") OR (\"look at\") OR (\"toggl*\") OR (\"view\") OR (\"also click\")) AND ((\"class\") OR (\"session*\") OR (\"week*\") OR (\"misconception*\") OR (\"student\") OR (\"puzzle*\") OR (\"level\"))', '__regex__': '(?=(?:^|.*\\\\W)(looking at|looked at|look at|toggl\\\\w*|view|also click)(?:\\\\W|$))(?=(?:^|.*\\\\W)(class|session\\\\w*|week\\\\w*|misconception\\\\w*|student|puzzle\\\\w*|level)(?:\\\\W|$))', 'definition': 'TODO', 'examples': ['TODO'], 'logic': Munch({'rotate': ['looking at', 'looked at', 'look at', 'toggl*', 'view', 'also click'], 'target': ['class', 'session*', 'week*', 'misconception*', 'student', 'puzzle*', 'level']})})})})\n"
     ]
    },
    {
     "data": {
      "text/plain": [
       "9802"
      ]
     },
     "execution_count": 4,
     "metadata": {},
     "output_type": "execute_result"
    }
   ],
   "source": [
    "for code in rules.codes.keys():\n",
    "    rules.codes[code].__regex__ = \"\".join([\n",
    "        make_OR_clause(rules.codes[code].logic[L])\n",
    "        for L in rules.codes[code].logic.keys()\n",
    "    ])\n",
    "    \n",
    "    rules.codes[code].__query__ = \" AND \".join([\n",
    "        make_OR_query(rules.codes[code].logic[L])\n",
    "        for L in rules.codes[code].logic.keys()\n",
    "    ])\n",
    "\n",
    "print(rules)\n",
    "open(\"big_data/rules.yaml\", \"w\").write(\"---\\n\" + yaml_dump(unmunchify(rules)))"
   ]
  },
  {
   "cell_type": "markdown",
   "id": "4156da62-ccbb-4d10-a1b6-04ee2bc8625b",
   "metadata": {},
   "source": [
    "## Testing Regex"
   ]
  },
  {
   "cell_type": "code",
   "execution_count": 5,
   "id": "a9310126-452a-4d13-a3c8-94a25e7836da",
   "metadata": {},
   "outputs": [
    {
     "data": {
      "text/markdown": [
       "**Abduction:**"
      ],
      "text/plain": [
       "<IPython.core.display.Markdown object>"
      ]
     },
     "metadata": {},
     "output_type": "display_data"
    },
    {
     "data": {
      "text/markdown": [
       "Found **they//possible** in the example: *it's possible that they were trying to game the system*"
      ],
      "text/plain": [
       "<IPython.core.display.Markdown object>"
      ]
     },
     "metadata": {},
     "output_type": "display_data"
    },
    {
     "data": {
      "text/markdown": [
       "Did not find a match in the example: *TODO*"
      ],
      "text/plain": [
       "<IPython.core.display.Markdown object>"
      ]
     },
     "metadata": {},
     "output_type": "display_data"
    },
    {
     "data": {
      "text/markdown": [
       "**Action:**"
      ],
      "text/plain": [
       "<IPython.core.display.Markdown object>"
      ]
     },
     "metadata": {},
     "output_type": "display_data"
    },
    {
     "data": {
      "text/markdown": [
       "Did not find a match in the example: *TODO*"
      ],
      "text/plain": [
       "<IPython.core.display.Markdown object>"
      ]
     },
     "metadata": {},
     "output_type": "display_data"
    },
    {
     "data": {
      "text/markdown": [
       "**Conception:**"
      ],
      "text/plain": [
       "<IPython.core.display.Markdown object>"
      ]
     },
     "metadata": {},
     "output_type": "display_data"
    },
    {
     "data": {
      "text/markdown": [
       "Did not find a match in the example: *TODO*"
      ],
      "text/plain": [
       "<IPython.core.display.Markdown object>"
      ]
     },
     "metadata": {},
     "output_type": "display_data"
    },
    {
     "data": {
      "text/markdown": [
       "**Design:**"
      ],
      "text/plain": [
       "<IPython.core.display.Markdown object>"
      ]
     },
     "metadata": {},
     "output_type": "display_data"
    },
    {
     "data": {
      "text/markdown": [
       "Did not find a match in the example: *TODO*"
      ],
      "text/plain": [
       "<IPython.core.display.Markdown object>"
      ]
     },
     "metadata": {},
     "output_type": "display_data"
    },
    {
     "data": {
      "text/markdown": [
       "**DesignTeam:**"
      ],
      "text/plain": [
       "<IPython.core.display.Markdown object>"
      ]
     },
     "metadata": {},
     "output_type": "display_data"
    },
    {
     "data": {
      "text/markdown": [
       "Did not find a match in the example: *TODO*"
      ],
      "text/plain": [
       "<IPython.core.display.Markdown object>"
      ]
     },
     "metadata": {},
     "output_type": "display_data"
    },
    {
     "data": {
      "text/markdown": [
       "**DiggingInto:**"
      ],
      "text/plain": [
       "<IPython.core.display.Markdown object>"
      ]
     },
     "metadata": {},
     "output_type": "display_data"
    },
    {
     "data": {
      "text/markdown": [
       "Found **where did//that** in the example: *where did that come from?*"
      ],
      "text/plain": [
       "<IPython.core.display.Markdown object>"
      ]
     },
     "metadata": {},
     "output_type": "display_data"
    },
    {
     "data": {
      "text/markdown": [
       "Did not find a match in the example: *TODO*"
      ],
      "text/plain": [
       "<IPython.core.display.Markdown object>"
      ]
     },
     "metadata": {},
     "output_type": "display_data"
    },
    {
     "data": {
      "text/markdown": [
       "**Evaluation:**"
      ],
      "text/plain": [
       "<IPython.core.display.Markdown object>"
      ]
     },
     "metadata": {},
     "output_type": "display_data"
    },
    {
     "data": {
      "text/markdown": [
       "Found **mental energy, and i don't have the time to work** in the example: *this tool requires a lot of mental energy, and i don't have the time to work on that*"
      ],
      "text/plain": [
       "<IPython.core.display.Markdown object>"
      ]
     },
     "metadata": {},
     "output_type": "display_data"
    },
    {
     "data": {
      "text/markdown": [
       "Did not find a match in the example: *TODO*"
      ],
      "text/plain": [
       "<IPython.core.display.Markdown object>"
      ]
     },
     "metadata": {},
     "output_type": "display_data"
    },
    {
     "data": {
      "text/markdown": [
       "**Motivation:**"
      ],
      "text/plain": [
       "<IPython.core.display.Markdown object>"
      ]
     },
     "metadata": {},
     "output_type": "display_data"
    },
    {
     "data": {
      "text/markdown": [
       "Did not find a match in the example: *TODO*"
      ],
      "text/plain": [
       "<IPython.core.display.Markdown object>"
      ]
     },
     "metadata": {},
     "output_type": "display_data"
    },
    {
     "data": {
      "text/markdown": [
       "**Operationalization:**"
      ],
      "text/plain": [
       "<IPython.core.display.Markdown object>"
      ]
     },
     "metadata": {},
     "output_type": "display_data"
    },
    {
     "data": {
      "text/markdown": [
       "Did not find a match in the example: *TODO*"
      ],
      "text/plain": [
       "<IPython.core.display.Markdown object>"
      ]
     },
     "metadata": {},
     "output_type": "display_data"
    },
    {
     "data": {
      "text/markdown": [
       "**Selection:**"
      ],
      "text/plain": [
       "<IPython.core.display.Markdown object>"
      ]
     },
     "metadata": {},
     "output_type": "display_data"
    },
    {
     "data": {
      "text/markdown": [
       "Found **stand out//student** in the example: *stand out student*"
      ],
      "text/plain": [
       "<IPython.core.display.Markdown object>"
      ]
     },
     "metadata": {},
     "output_type": "display_data"
    },
    {
     "data": {
      "text/markdown": [
       "Did not find a match in the example: *TODO*"
      ],
      "text/plain": [
       "<IPython.core.display.Markdown object>"
      ]
     },
     "metadata": {},
     "output_type": "display_data"
    },
    {
     "data": {
      "text/markdown": [
       "**Shadowspect:**"
      ],
      "text/plain": [
       "<IPython.core.display.Markdown object>"
      ]
     },
     "metadata": {},
     "output_type": "display_data"
    },
    {
     "data": {
      "text/markdown": [
       "Did not find a match in the example: *TODO*"
      ],
      "text/plain": [
       "<IPython.core.display.Markdown object>"
      ]
     },
     "metadata": {},
     "output_type": "display_data"
    },
    {
     "data": {
      "text/markdown": [
       "**Transposition:**"
      ],
      "text/plain": [
       "<IPython.core.display.Markdown object>"
      ]
     },
     "metadata": {},
     "output_type": "display_data"
    },
    {
     "data": {
      "text/markdown": [
       "Did not find a match in the example: *TODO*"
      ],
      "text/plain": [
       "<IPython.core.display.Markdown object>"
      ]
     },
     "metadata": {},
     "output_type": "display_data"
    }
   ],
   "source": [
    "for code in rules.codes.keys():\n",
    "    display(Markdown(f\"**{code}:**\"))\n",
    "    rule = re.compile(rules.codes[code].__regex__, re.MULTILINE)\n",
    "    for example in rules.codes[code].examples:\n",
    "        result = rule.search(example)\n",
    "        if result is not None:\n",
    "            found = \"//\".join([\n",
    "                group.strip() for group in result.groups() if group is not None\n",
    "            ])\n",
    "\n",
    "            display(Markdown(f\"Found **{found}** in the example: *{example}*\"))\n",
    "        else:\n",
    "            display(Markdown(f\"Did not find a match in the example: *{example}*\"))"
   ]
  },
  {
   "cell_type": "markdown",
   "id": "8551a5cc-7a6e-4593-867b-30c58fcc577f",
   "metadata": {},
   "source": [
    "# Processing Data\n",
    "## Loading Data"
   ]
  },
  {
   "cell_type": "code",
   "execution_count": 6,
   "id": "0c9b5723-d65a-4cc3-99b0-a21ccffea65d",
   "metadata": {},
   "outputs": [],
   "source": [
    "data = read_csv(\"big_data/fulldata.csv\", sep=\",\")\n",
    "data[\"S.A.G.L\"] = data[\"Session\"] + \".\" + data[\"Activity\"] + \".\" + data[\"Group\"] + \".\" + data[\"LineNo\"].astype(\"str\")\n",
    "data[\"Text\"] = data[\"Text\"].str.replace(\"\\n\", \" \")"
   ]
  },
  {
   "cell_type": "markdown",
   "id": "07fa634d-4936-4d96-8293-a036811c04e9",
   "metadata": {},
   "source": [
    "## Helpers"
   ]
  },
  {
   "cell_type": "code",
   "execution_count": 7,
   "id": "0814daa7-884f-4a06-be87-922e339d3a2d",
   "metadata": {},
   "outputs": [],
   "source": [
    "def apply_rule(data, rule, code):\n",
    "    automated_codes = []\n",
    "    automated_clues = []\n",
    "    rule = re.compile(rule, re.MULTILINE)\n",
    "    for text in data.Text:\n",
    "        if type(text) == str:\n",
    "            result = rule.match(text.lower())\n",
    "            if result is not None:\n",
    "                automated_codes.append(1)\n",
    "                automated_clues.append(\n",
    "                    \"//\".join([\n",
    "                        group.strip() for group in result.groups() if group is not None\n",
    "                    ])\n",
    "                )\n",
    "            else:\n",
    "                automated_codes.append(0)\n",
    "                automated_clues.append(\"\")\n",
    "        else:\n",
    "            automated_codes.append(0)\n",
    "            automated_clues.append(\"\")\n",
    "\n",
    "    data[code] = automated_codes\n",
    "    data[f\"{code}_clue\"] = automated_clues"
   ]
  },
  {
   "cell_type": "markdown",
   "id": "2d6ae85e-112d-4eb6-b3af-d267c0e5ab83",
   "metadata": {
    "tags": []
   },
   "source": [
    "## Applying Code Rules"
   ]
  },
  {
   "cell_type": "code",
   "execution_count": 8,
   "id": "38abd08b-872c-4fcf-953a-f8d637ef3166",
   "metadata": {},
   "outputs": [],
   "source": [
    "for code in rules.codes.keys():\n",
    "    apply_rule(data, rules.codes[code].__regex__, code)"
   ]
  },
  {
   "cell_type": "markdown",
   "id": "6c301873-eabf-4113-8f63-01aece64ebca",
   "metadata": {},
   "source": [
    "# Generating Test Sets\n",
    "## Loading Data"
   ]
  },
  {
   "cell_type": "code",
   "execution_count": 9,
   "id": "93fa36e2-4af8-493a-a17f-a60c8b283a5d",
   "metadata": {},
   "outputs": [],
   "source": [
    "training = munchify(safe_load(open(\"big_data/training.yaml\", \"r\").read()))"
   ]
  },
  {
   "cell_type": "markdown",
   "id": "b45daeff-fee3-4b59-a309-f3c85a7db464",
   "metadata": {},
   "source": [
    "## Helpers"
   ]
  },
  {
   "cell_type": "code",
   "execution_count": 10,
   "id": "9426720b-4ea2-411b-8de7-1452be7795ea",
   "metadata": {},
   "outputs": [],
   "source": [
    "def inflated_sample(data, code, random_state=42, size=16):\n",
    "    drop = []\n",
    "    if code in training.keys():\n",
    "        for sagl in training[code]:\n",
    "            drop += list(data[data[\"S.A.G.L\"] == sagl].index)\n",
    "            \n",
    "    data = data.drop(drop)\n",
    "    positives = data[data[code] == 1].sample(n=size, random_state=random_state)\n",
    "    others = data.drop(positives.index).sample(n=size*4, random_state=random_state)\n",
    "    sample = concat([positives, others])\n",
    "    return sample.sample(frac=1, random_state=random_state)\n",
    "\n",
    "def gen_test(code, random_state=42, size=16):\n",
    "    sample = inflated_sample(data, code, size=size, random_state=random_state)\n",
    "    sample[[\"Text\", code, f\"{code}_clue\"]].to_csv(f\"output/{code}-automated.csv\")\n",
    "    sample.Text.to_csv(f\"output/{code}-uncoded.csv\")\n",
    "    if code not in training.keys():\n",
    "        training[code] = []\n",
    "        \n",
    "    training[code] += list(sample[\"S.A.G.L\"].values)\n",
    "    open(\"big_data/training.yaml\", \"w\").write(\"---\\n\" + yaml_dump(unmunchify(training)))\n",
    "    display(Markdown(\"**Done!**\"))\n",
    "    display(Markdown(f\"Test/train set has been generated for `{code}`.\"))\n",
    "    display(Markdown(f\"The human rater's file has been placed at `output/{code}-uncoded.csv`. Please download this file and code it manually *before* looking at the automated rater's results.\"))\n",
    "    display(Markdown(f\"The automated rater's file has been placed at `output/{code}-automated.csv`.\"))\n",
    "    display(Markdown(f\"*Please do not run this function for `{code}` again until you are ready to produce a new, unique test set!*\"))\n",
    "    display(Markdown(\"And **please** remember to push changes to `big_data/rules.csv` and `big_data/training.csv` to OSF once you are done checking your results against the computer's.\"))"
   ]
  },
  {
   "cell_type": "markdown",
   "id": "16f605be-5c96-4ed0-8508-098b5fea4ca6",
   "metadata": {},
   "source": [
    "## Running Generation Method(s)"
   ]
  },
  {
   "cell_type": "code",
   "execution_count": 11,
   "id": "8cdb1351-3e50-4e50-af46-3c7c79acef60",
   "metadata": {},
   "outputs": [],
   "source": [
    "random_state = 100\n",
    "# gen_test(\"Abduction\", random_state=random_state)\n",
    "# gen_test(\"Action\", random_state=random_state)\n",
    "# gen_test(\"Conception\", random_state=random_state)\n",
    "# gen_test(\"Design\", random_state=random_state)\n",
    "# gen_test(\"DesignTeam\", random_state=random_state)\n",
    "# gen_test(\"DiggingInto\", random_state=random_state)\n",
    "# gen_test(\"Evaluation\", random_state=random_state)\n",
    "# gen_test(\"Motivation\", random_state=random_state)\n",
    "# gen_test(\"Operationalization\", random_state=random_state)\n",
    "# gen_test(\"Selection\", random_state=random_state)\n",
    "# gen_test(\"Shadowspect\", random_state=random_state)\n",
    "# gen_test(\"Transposition\", random_state=random_state)"
   ]
  }
 ],
 "metadata": {
  "kernelspec": {
   "display_name": "Python 3 (ipykernel)",
   "language": "python",
   "name": "python3"
  },
  "language_info": {
   "codemirror_mode": {
    "name": "ipython",
    "version": 3
   },
   "file_extension": ".py",
   "mimetype": "text/x-python",
   "name": "python",
   "nbconvert_exporter": "python",
   "pygments_lexer": "ipython3",
   "version": "3.7.12"
  }
 },
 "nbformat": 4,
 "nbformat_minor": 5
}
